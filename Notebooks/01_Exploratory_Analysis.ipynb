{
 "cells": [
  {
   "cell_type": "code",
   "execution_count": null,
   "id": "db2cd3c3",
   "metadata": {},
   "outputs": [],
   "source": [
    "import pandas as pd\n",
    "import matplotlib.pyplot as plt\n",
    "import seaborn as sns\n",
    "\n",
    "df = pd.read_csv('../data/transactions.csv')\n",
    "\n",
    "# Distribuição de fraudes\n",
    "sns.countplot(x='Class', data=df)\n",
    "plt.title('Distribuição de Fraudes')\n",
    "plt.show()\n",
    "\n",
    "# Correlação\n",
    "sns.heatmap(df.corr(), cmap='coolwarm')\n",
    "plt.title('Matriz de Correlação')\n",
    "plt.show()\n"
   ]
  }
 ],
 "metadata": {
  "kernelspec": {
   "display_name": ".venv",
   "language": "python",
   "name": "python3"
  },
  "language_info": {
   "name": "python",
   "version": "3.13.0"
  }
 },
 "nbformat": 4,
 "nbformat_minor": 5
}
